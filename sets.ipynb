{
 "cells": [
  {
   "cell_type": "markdown",
   "id": "22721190",
   "metadata": {},
   "source": [
    "# SETS #"
   ]
  },
  {
   "cell_type": "code",
   "execution_count": null,
   "id": "2bf205ab",
   "metadata": {},
   "outputs": [
    {
     "name": "stdout",
     "output_type": "stream",
     "text": [
      "{0, True, 2, 'hello'}\n",
      "<class 'set'>\n"
     ]
    }
   ],
   "source": [
    "st ={1,2,\"hello\",True,\"hello\"}                #sets only use for mathematics\n",
    "print(st)\n",
    "print(type(st))"
   ]
  },
  {
   "cell_type": "code",
   "execution_count": 5,
   "id": "7e70eee1",
   "metadata": {},
   "outputs": [
    {
     "name": "stdout",
     "output_type": "stream",
     "text": [
      "{9, 2, True, 'hello'}\n",
      "<class 'set'>\n"
     ]
    }
   ],
   "source": [
    "st ={9,2,\"hello\",True,\"hello\"}                #sets only use for mathematics\n",
    "print(st)\n",
    "print(type(st))"
   ]
  },
  {
   "cell_type": "code",
   "execution_count": 18,
   "id": "b044b0f3",
   "metadata": {},
   "outputs": [
    {
     "name": "stdout",
     "output_type": "stream",
     "text": [
      "{9, 2, True}\n"
     ]
    }
   ],
   "source": [
    "st ={9,2,\"hello\",True,\"hello\"}  \n",
    "# st.add(\"rust\")\n",
    "# st.update([5648,8,9,7,00,786])\n",
    "# st.remove(\"hello\")\n",
    "# st.pop()\n",
    "\n",
    "st.discard(\"hello\")\n",
    "print(st)"
   ]
  },
  {
   "cell_type": "code",
   "execution_count": 45,
   "id": "e0632921",
   "metadata": {},
   "outputs": [],
   "source": [
    "a = {1,2,3}\n",
    "b = {3,4,5}\n",
    "# print(a.union(b))\n",
    "# print(a.intersection(b))\n",
    "## return the element in first set that are not in second set\n",
    "# print(a.difference(b))\n",
    "# print(b.difference(a))\n",
    "## symmetric difference\n",
    "#return the element in either set but not both\n",
    "# print(a.symmetric_difference(b))\n",
    "# print(b.symmetric_difference(a))\n",
    "##sub set\n",
    "## check if all the elements of one set are in another set\n",
    "# print(a.issubset(b))\n",
    "# print(b.issubset(a))\n",
    "# ## SUPERSET\n",
    "## check if one set is contains all the element of another\n",
    "# print(a.issuperset(b))\n",
    "# print(a.issuperset(b))\n",
    "##disjoint\n",
    "## check if two sets have no common elements\n",
    "# print(a.isdisjoint(b))\n",
    "# print(b.isdisjoint(a))\n",
    "\n",
    "##intersection update\n",
    "## update the set with the intersection of another \n",
    "\n",
    "# a.intersection_update(b)\n",
    "# print(a)\n",
    "# b.intersection_update(a)\n",
    "# print(b)\n",
    "\n",
    "##difference.update\n",
    "# a.difference_update(b)\n",
    "# print(a)\n",
    "# b.difference_update(a)\n",
    "# print(b)\n",
    "\n",
    "##symmetric difference update\n",
    "# a.symmetric_difference_update(b)\n",
    "# print(a)\n",
    "# b.symmetric_difference_update(a)\n",
    "# print(b)\n",
    "\n"
   ]
  }
 ],
 "metadata": {
  "kernelspec": {
   "display_name": "Python 3",
   "language": "python",
   "name": "python3"
  },
  "language_info": {
   "codemirror_mode": {
    "name": "ipython",
    "version": 3
   },
   "file_extension": ".py",
   "mimetype": "text/x-python",
   "name": "python",
   "nbconvert_exporter": "python",
   "pygments_lexer": "ipython3",
   "version": "3.12.4"
  }
 },
 "nbformat": 4,
 "nbformat_minor": 5
}
