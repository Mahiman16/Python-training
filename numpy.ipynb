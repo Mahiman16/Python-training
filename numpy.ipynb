{
 "cells": [
  {
   "cell_type": "code",
   "execution_count": null,
   "id": "dd91361c",
   "metadata": {},
   "outputs": [
    {
     "data": {
      "text/plain": [
       "'2.1.1'"
      ]
     },
     "execution_count": 4,
     "metadata": {},
     "output_type": "execute_result"
    }
   ],
   "source": [
    "## check numpy version\n",
    "import numpy as np\n",
    "# 1d . 2d , 3d , 4d \n",
    "np.__version__"
   ]
  },
  {
   "cell_type": "code",
   "execution_count": null,
   "id": "e644bea9",
   "metadata": {},
   "outputs": [
    {
     "name": "stdout",
     "output_type": "stream",
     "text": [
      "<class 'numpy.ndarray'>\n"
     ]
    },
    {
     "data": {
      "text/plain": [
       "array([1, 2, 3, 4, 5])"
      ]
     },
     "execution_count": 18,
     "metadata": {},
     "output_type": "execute_result"
    }
   ],
   "source": [
    "lst = [1,2,3,4,5]\n",
    "arl = np.array(lst)\n",
    "print(type(arl))\n",
    "arl"
   ]
  },
  {
   "cell_type": "code",
   "execution_count": 16,
   "id": "8dd88498",
   "metadata": {},
   "outputs": [
    {
     "data": {
      "text/plain": [
       "array(['1', '2', '3', '4', '5'], dtype='<U21')"
      ]
     },
     "execution_count": 16,
     "metadata": {},
     "output_type": "execute_result"
    }
   ],
   "source": [
    "arl = np.array([1,2,\"3\",4,5])\n",
    "arl"
   ]
  },
  {
   "cell_type": "code",
   "execution_count": 24,
   "id": "0410a997",
   "metadata": {},
   "outputs": [
    {
     "data": {
      "text/plain": [
       "[1, 2, 3, 4, 5]"
      ]
     },
     "execution_count": 24,
     "metadata": {},
     "output_type": "execute_result"
    }
   ],
   "source": [
    "lst = [x for x in  range(1 , 6)]\n",
    "arl = np.array(lst)\n",
    "lst"
   ]
  },
  {
   "cell_type": "code",
   "execution_count": 26,
   "id": "d2aace28",
   "metadata": {},
   "outputs": [
    {
     "data": {
      "text/plain": [
       "array([ 1,  2,  3,  4,  5,  6,  7,  8,  9, 10])"
      ]
     },
     "execution_count": 26,
     "metadata": {},
     "output_type": "execute_result"
    }
   ],
   "source": [
    "ar2 = np.arange(1,11)\n",
    "ar2"
   ]
  },
  {
   "cell_type": "code",
   "execution_count": 33,
   "id": "f5fc3e7a",
   "metadata": {},
   "outputs": [
    {
     "data": {
      "text/plain": [
       "array([1., 1., 1., 1., 1.])"
      ]
     },
     "execution_count": 33,
     "metadata": {},
     "output_type": "execute_result"
    }
   ],
   "source": [
    "ar3 = np.ones(5)\n",
    "ar3"
   ]
  },
  {
   "cell_type": "code",
   "execution_count": 34,
   "id": "18bdb31c",
   "metadata": {},
   "outputs": [
    {
     "data": {
      "text/plain": [
       "array([0., 0., 0., 0., 0.])"
      ]
     },
     "execution_count": 34,
     "metadata": {},
     "output_type": "execute_result"
    }
   ],
   "source": [
    "ar4 = np.zeros(5)\n",
    "ar4"
   ]
  },
  {
   "cell_type": "markdown",
   "id": "eb1853ad",
   "metadata": {},
   "source": [
    "# 2-d array"
   ]
  },
  {
   "cell_type": "code",
   "execution_count": 36,
   "id": "e2481729",
   "metadata": {},
   "outputs": [
    {
     "data": {
      "text/plain": [
       "array([[0., 0., 0.],\n",
       "       [0., 0., 0.]])"
      ]
     },
     "execution_count": 36,
     "metadata": {},
     "output_type": "execute_result"
    }
   ],
   "source": [
    "ar5 = np.zeros((2,3))\n",
    "ar5"
   ]
  },
  {
   "cell_type": "code",
   "execution_count": 40,
   "id": "04060ef4",
   "metadata": {},
   "outputs": [
    {
     "data": {
      "text/plain": [
       "array([[1., 1., 1., 1., 1., 1., 1., 1., 1.],\n",
       "       [1., 1., 1., 1., 1., 1., 1., 1., 1.],\n",
       "       [1., 1., 1., 1., 1., 1., 1., 1., 1.],\n",
       "       [1., 1., 1., 1., 1., 1., 1., 1., 1.],\n",
       "       [1., 1., 1., 1., 1., 1., 1., 1., 1.],\n",
       "       [1., 1., 1., 1., 1., 1., 1., 1., 1.],\n",
       "       [1., 1., 1., 1., 1., 1., 1., 1., 1.],\n",
       "       [1., 1., 1., 1., 1., 1., 1., 1., 1.]])"
      ]
     },
     "execution_count": 40,
     "metadata": {},
     "output_type": "execute_result"
    }
   ],
   "source": [
    "ar6 = np.ones((8,9))\n",
    "ar6"
   ]
  },
  {
   "cell_type": "code",
   "execution_count": 48,
   "id": "05290e32",
   "metadata": {},
   "outputs": [
    {
     "data": {
      "text/plain": [
       "array([ 1.  ,  3.25,  5.5 ,  7.75, 10.  ])"
      ]
     },
     "execution_count": 48,
     "metadata": {},
     "output_type": "execute_result"
    }
   ],
   "source": [
    "ar7 = np.linspace(1,10,5)\n",
    "ar7"
   ]
  },
  {
   "cell_type": "code",
   "execution_count": null,
   "id": "25665908",
   "metadata": {},
   "outputs": [
    {
     "data": {
      "text/plain": [
       "array([[ 1,  2,  3,  4,  5,  6,  7,  8,  9, 10, 11, 12, 13, 14, 15, 16,\n",
       "        17, 18, 19, 20, 21, 22, 23, 24, 25, 26, 27, 28, 29, 30]])"
      ]
     },
     "execution_count": 57,
     "metadata": {},
     "output_type": "execute_result"
    }
   ],
   "source": [
    "## 1-d array to 2 d array\n",
    "\n",
    "ar8 = np.arange(1,31).reshape(5,6) \n",
    "ar8"
   ]
  },
  {
   "cell_type": "code",
   "execution_count": 58,
   "id": "acbe4b34",
   "metadata": {},
   "outputs": [
    {
     "data": {
      "text/plain": [
       "array([ 4, 30, 88, 87, 78, 13, 58, 88, 46, 29], dtype=int32)"
      ]
     },
     "execution_count": 58,
     "metadata": {},
     "output_type": "execute_result"
    }
   ],
   "source": [
    "ar9 = np.random.randint(1,100,10)\n",
    "ar9"
   ]
  },
  {
   "cell_type": "code",
   "execution_count": 59,
   "id": "159959da",
   "metadata": {},
   "outputs": [
    {
     "data": {
      "text/plain": [
       "array([0.36933804, 0.42047079, 0.80598441, 0.93454296, 0.07320695,\n",
       "       0.42486222, 0.53573553, 0.06220815, 0.4867934 , 0.21592358])"
      ]
     },
     "execution_count": 59,
     "metadata": {},
     "output_type": "execute_result"
    }
   ],
   "source": [
    "arr = np.random.random(10)\n",
    "arr"
   ]
  },
  {
   "cell_type": "code",
   "execution_count": 63,
   "id": "ef456cd7",
   "metadata": {},
   "outputs": [
    {
     "data": {
      "text/plain": [
       "array([[ 1,  2,  3,  4,  5,  6],\n",
       "       [ 7,  8,  9, 10, 11, 12],\n",
       "       [13, 14, 15, 16, 17, 18],\n",
       "       [19, 20, 21, 22, 23, 24],\n",
       "       [25, 26, 27, 28, 29, 30],\n",
       "       [31, 32, 33, 34, 35, 36],\n",
       "       [37, 38, 39, 40, 41, 42],\n",
       "       [43, 44, 45, 46, 47, 48],\n",
       "       [49, 50, 51, 52, 53, 54],\n",
       "       [55, 56, 57, 58, 59, 60]])"
      ]
     },
     "execution_count": 63,
     "metadata": {},
     "output_type": "execute_result"
    }
   ],
   "source": [
    "matrix = np.arange(1,61).reshape(10,6)\n",
    "matrix"
   ]
  },
  {
   "cell_type": "code",
   "execution_count": 66,
   "id": "70100c25",
   "metadata": {},
   "outputs": [
    {
     "data": {
      "text/plain": [
       "2"
      ]
     },
     "execution_count": 66,
     "metadata": {},
     "output_type": "execute_result"
    }
   ],
   "source": [
    "matrix = np.arange(1,61).reshape(10,6)\n",
    "matrix.shape\n",
    "matrix.dtype\n",
    "matrix.size\n",
    "matrix.ndim\n"
   ]
  },
  {
   "cell_type": "code",
   "execution_count": 72,
   "id": "45a01adc",
   "metadata": {},
   "outputs": [
    {
     "name": "stdout",
     "output_type": "stream",
     "text": [
      "[[ 1  2  3  4  5  6]\n",
      " [ 7  8  9 10 11 12]\n",
      " [13 14 15 16 17 18]\n",
      " [19 20 21 22 23 24]\n",
      " [25 26 27 28 29 30]\n",
      " [31 32 33 34 35 36]\n",
      " [37 38 39 40 41 42]\n",
      " [43 44 45 46 47 48]\n",
      " [49 50 51 52 53 54]\n",
      " [55 56 57 58 59 60]]\n"
     ]
    },
    {
     "data": {
      "text/plain": [
       "array([ 1,  2,  3,  4,  5,  6,  7,  8,  9, 10, 11, 12, 13, 14, 15, 16, 17,\n",
       "       18, 19, 20, 21, 22, 23, 24, 25, 26, 27, 28, 29, 30, 31, 32, 33, 34,\n",
       "       35, 36, 37, 38, 39, 40, 41, 42, 43, 44, 45, 46, 47, 48, 49, 50, 51,\n",
       "       52, 53, 54, 55, 56, 57, 58, 59, 60])"
      ]
     },
     "execution_count": 72,
     "metadata": {},
     "output_type": "execute_result"
    }
   ],
   "source": [
    "# Convert multidimension array in 1 d\n",
    "matrix = np.arange(1,61).reshape(10,6)\n",
    "print(matrix)\n",
    "\n",
    "matrix.ravel()\n",
    "matrix.flatten()"
   ]
  },
  {
   "cell_type": "code",
   "execution_count": 75,
   "id": "ad511aa3",
   "metadata": {},
   "outputs": [
    {
     "name": "stdout",
     "output_type": "stream",
     "text": [
      "(10, 6)\n"
     ]
    },
    {
     "data": {
      "text/plain": [
       "(6, 10)"
      ]
     },
     "execution_count": 75,
     "metadata": {},
     "output_type": "execute_result"
    }
   ],
   "source": [
    "## TRANSPOSE OF A MATRIX\n",
    "matrix = np.arange(1,61).reshape(10,6)\n",
    "print(matrix.shape)\n",
    "M2 = matrix.T.shape\n",
    "M2"
   ]
  },
  {
   "cell_type": "markdown",
   "id": "2c405bee",
   "metadata": {},
   "source": [
    "## INDEXING & SLICING"
   ]
  },
  {
   "cell_type": "code",
   "execution_count": 76,
   "id": "c7b91b6b",
   "metadata": {},
   "outputs": [
    {
     "name": "stdout",
     "output_type": "stream",
     "text": [
      "6\n"
     ]
    }
   ],
   "source": [
    "\n",
    "ar2 = np.arange(1,11)\n",
    "print(ar2[5])\n"
   ]
  },
  {
   "cell_type": "code",
   "execution_count": 78,
   "id": "adfb46a2",
   "metadata": {},
   "outputs": [
    {
     "name": "stdout",
     "output_type": "stream",
     "text": [
      "[7 8]\n"
     ]
    }
   ],
   "source": [
    "ar2 = np.arange(1,11)\n",
    "print(ar2[-4:-2])"
   ]
  },
  {
   "cell_type": "code",
   "execution_count": 98,
   "id": "92e24051",
   "metadata": {},
   "outputs": [
    {
     "name": "stdout",
     "output_type": "stream",
     "text": [
      "[[18]]\n"
     ]
    }
   ],
   "source": [
    "## indexing and slicing for 2d array\n",
    "# Indexing -- [row,start:row end: rowskip,col start:colend:skip]\n",
    "matrix = np.arange(1,61).reshape(12,5)\n",
    "# print(matrix)\n",
    "\n",
    "print(matrix[3:4,2:3])"
   ]
  },
  {
   "cell_type": "code",
   "execution_count": 105,
   "id": "20fe09f5",
   "metadata": {},
   "outputs": [
    {
     "data": {
      "text/plain": [
       "array([[60, 59, 58, 57, 56],\n",
       "       [55, 54, 53, 52, 51],\n",
       "       [50, 49, 48, 47, 46],\n",
       "       [45, 44, 43, 42, 41],\n",
       "       [40, 39, 38, 37, 36],\n",
       "       [35, 34, 33, 32, 31],\n",
       "       [30, 29, 28, 27, 26],\n",
       "       [25, 24, 23, 22, 21],\n",
       "       [20, 19, 18, 17, 16],\n",
       "       [15, 14, 13, 12, 11],\n",
       "       [10,  9,  8,  7,  6],\n",
       "       [ 5,  4,  3,  2,  1]])"
      ]
     },
     "execution_count": 105,
     "metadata": {},
     "output_type": "execute_result"
    }
   ],
   "source": [
    "matrix[9:10,4:5][0][0]\n",
    "matrix[::-1,::-1]"
   ]
  },
  {
   "cell_type": "code",
   "execution_count": null,
   "id": "c0d4f531",
   "metadata": {},
   "outputs": [
    {
     "data": {
      "text/plain": [
       "array([[[  0,   1,   2,   3,   4],\n",
       "        [  5,   6,   7,   8,   9],\n",
       "        [ 10,  11,  12,  13,  14],\n",
       "        [ 15,  16,  17,  18,  19],\n",
       "        [ 20,  21,  22,  23,  24],\n",
       "        [ 25,  26,  27,  28,  29],\n",
       "        [ 30,  31,  32,  33,  34],\n",
       "        [ 35,  36,  37,  38,  39],\n",
       "        [ 40,  41,  42,  43,  44],\n",
       "        [ 45,  46,  47,  48,  49],\n",
       "        [ 50,  51,  52,  53,  54],\n",
       "        [ 55,  56,  57,  58,  59],\n",
       "        [ 60,  61,  62,  63,  64],\n",
       "        [ 65,  66,  67,  68,  69],\n",
       "        [ 70,  71,  72,  73,  74]],\n",
       "\n",
       "       [[ 75,  76,  77,  78,  79],\n",
       "        [ 80,  81,  82,  83,  84],\n",
       "        [ 85,  86,  87,  88,  89],\n",
       "        [ 90,  91,  92,  93,  94],\n",
       "        [ 95,  96,  97,  98,  99],\n",
       "        [100, 101, 102, 103, 104],\n",
       "        [105, 106, 107, 108, 109],\n",
       "        [110, 111, 112, 113, 114],\n",
       "        [115, 116, 117, 118, 119],\n",
       "        [120, 121, 122, 123, 124],\n",
       "        [125, 126, 127, 128, 129],\n",
       "        [130, 131, 132, 133, 134],\n",
       "        [135, 136, 137, 138, 139],\n",
       "        [140, 141, 142, 143, 144],\n",
       "        [145, 146, 147, 148, 149]],\n",
       "\n",
       "       [[150, 151, 152, 153, 154],\n",
       "        [155, 156, 157, 158, 159],\n",
       "        [160, 161, 162, 163, 164],\n",
       "        [165, 166, 167, 168, 169],\n",
       "        [170, 171, 172, 173, 174],\n",
       "        [175, 176, 177, 178, 179],\n",
       "        [180, 181, 182, 183, 184],\n",
       "        [185, 186, 187, 188, 189],\n",
       "        [190, 191, 192, 193, 194],\n",
       "        [195, 196, 197, 198, 199],\n",
       "        [200, 201, 202, 203, 204],\n",
       "        [205, 206, 207, 208, 209],\n",
       "        [210, 211, 212, 213, 214],\n",
       "        [215, 216, 217, 218, 219],\n",
       "        [220, 221, 222, 223, 224]]])"
      ]
     },
     "execution_count": 118,
     "metadata": {},
     "output_type": "execute_result"
    }
   ],
   "source": [
    "##3d array\n",
    "arr11 = np.arange(225).reshape(3,15,5)\n",
    "arr11"
   ]
  },
  {
   "cell_type": "code",
   "execution_count": 120,
   "id": "ea0ba3e8",
   "metadata": {},
   "outputs": [
    {
     "data": {
      "text/plain": [
       "array([[[  7,   8],\n",
       "        [ 12,  13],\n",
       "        [ 17,  18]],\n",
       "\n",
       "       [[ 82,  83],\n",
       "        [ 87,  88],\n",
       "        [ 92,  93]],\n",
       "\n",
       "       [[157, 158],\n",
       "        [162, 163],\n",
       "        [167, 168]]])"
      ]
     },
     "execution_count": 120,
     "metadata": {},
     "output_type": "execute_result"
    }
   ],
   "source": [
    "#slicing in 3rd array\n",
    "# syntax\n",
    "# [table start:table end :table skip,row start : row end : row skip : col start : col end : col skip]\n",
    "arr11[0:,1:4,2:4]"
   ]
  },
  {
   "cell_type": "code",
   "execution_count": null,
   "id": "f99896a9",
   "metadata": {},
   "outputs": [],
   "source": []
  }
 ],
 "metadata": {
  "kernelspec": {
   "display_name": "Python 3",
   "language": "python",
   "name": "python3"
  },
  "language_info": {
   "codemirror_mode": {
    "name": "ipython",
    "version": 3
   },
   "file_extension": ".py",
   "mimetype": "text/x-python",
   "name": "python",
   "nbconvert_exporter": "python",
   "pygments_lexer": "ipython3",
   "version": "3.12.4"
  }
 },
 "nbformat": 4,
 "nbformat_minor": 5
}
