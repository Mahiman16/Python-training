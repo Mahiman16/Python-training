{
 "cells": [
  {
   "cell_type": "markdown",
   "id": "5591dbbe",
   "metadata": {},
   "source": [
    "#module#"
   ]
  },
  {
   "cell_type": "code",
   "execution_count": 1,
   "id": "8e71f29f",
   "metadata": {},
   "outputs": [],
   "source": [
    "##module ----= importing other file into your current file\n",
    "# module is a single python file(.py)\n",
    "# there are 3 type of Modules\n",
    "# 1. built-in modules >>>>   os sys, date time, regularexpression,maths\n",
    "# 2. third party modules>>>  pandas, numpy\n",
    "# 3. user defined modules>>>>"
   ]
  },
  {
   "cell_type": "code",
   "execution_count": null,
   "id": "10bf8d2a",
   "metadata": {},
   "outputs": [],
   "source": [
    "# #import os \n",
    "# from functools import reduce\n",
    "# lst = [1,2,3,4,5]\n",
    "# result = reduce(lambda n1,n2 : n1+n2,lst)\n",
    "# print(result)"
   ]
  },
  {
   "cell_type": "code",
   "execution_count": 5,
   "id": "21a113b7",
   "metadata": {},
   "outputs": [
    {
     "name": "stdout",
     "output_type": "stream",
     "text": [
      "3\n"
     ]
    }
   ],
   "source": [
    "from basic import addfunction\n",
    "print(addfunction(1,2))"
   ]
  }
 ],
 "metadata": {
  "kernelspec": {
   "display_name": "Python 3",
   "language": "python",
   "name": "python3"
  },
  "language_info": {
   "codemirror_mode": {
    "name": "ipython",
    "version": 3
   },
   "file_extension": ".py",
   "mimetype": "text/x-python",
   "name": "python",
   "nbconvert_exporter": "python",
   "pygments_lexer": "ipython3",
   "version": "3.12.4"
  }
 },
 "nbformat": 4,
 "nbformat_minor": 5
}
