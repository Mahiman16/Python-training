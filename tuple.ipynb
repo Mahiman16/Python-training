{
 "cells": [
  {
   "cell_type": "markdown",
   "id": "94159513",
   "metadata": {},
   "source": [
    "<!-- tpl = ordered,immutable, allow duplication,hetrogenous,slicing -->"
   ]
  },
  {
   "cell_type": "markdown",
   "id": "39c4a678",
   "metadata": {},
   "source": [
    "# TUPLE #\n"
   ]
  },
  {
   "cell_type": "code",
   "execution_count": 1,
   "id": "e77e819a",
   "metadata": {},
   "outputs": [
    {
     "name": "stdout",
     "output_type": "stream",
     "text": [
      "hello world\n"
     ]
    }
   ],
   "source": [
    "print( \"hello world\" )"
   ]
  },
  {
   "cell_type": "code",
   "execution_count": 3,
   "id": "4448d273",
   "metadata": {},
   "outputs": [
    {
     "name": "stdout",
     "output_type": "stream",
     "text": [
      "(1, 2, 'hello', True, 33.23, 'hello')\n",
      "<class 'tuple'>\n",
      "1\n",
      "(True, 33.23, 'hello')\n"
     ]
    }
   ],
   "source": [
    "tpl =(1,2,\"hello\",True,33.23,\"hello\")\n",
    "print(tpl)\n",
    "print(type(tpl))\n",
    "print(tpl[0])\n",
    "print(tpl[-3:])"
   ]
  },
  {
   "cell_type": "code",
   "execution_count": null,
   "id": "cec19bd5",
   "metadata": {},
   "outputs": [
    {
     "ename": "IndentationError",
     "evalue": "unexpected indent (325850453.py, line 3)",
     "output_type": "error",
     "traceback": [
      "\u001b[1;36m  Cell \u001b[1;32mIn[6], line 3\u001b[1;36m\u001b[0m\n\u001b[1;33m    lst.index(\"red\")\u001b[0m\n\u001b[1;37m    ^\u001b[0m\n\u001b[1;31mIndentationError\u001b[0m\u001b[1;31m:\u001b[0m unexpected indent\n"
     ]
    }
   ],
   "source": [
    "# lst = (\"red\",\"black\",\"green\",\"pink\",\"red\")\n",
    "#  lst.count(\"red\")\n",
    "#  lst.index(\"red\")\n",
    "# lst2=lst.copy()\n",
    "# lst2\n",
    "# lst.clear()\n",
    "# print(lst)\n",
    "# del lst\n",
    "# lst\n",
    "# lst.insert(3,\"yello\")\n",
    "# print(lst)\n",
    "# lst.append(\"purple\")\n",
    "# print(lst)\n",
    "# lst.extend([1,2,3,4,5,6])\n",
    "# print(lst)\n",
    "# lst.remove(\"red\")\n",
    "# print(lst)\n",
    "# lst.pop()\n",
    "# print(lst)\n",
    "# lst.pop(2)\n",
    "# print(lst)\n",
    "# lst.reverse()\n",
    "# print(lst)\n",
    "# lst.sort(reverse=True)\n",
    " print(lst)"
   ]
  }
 ],
 "metadata": {
  "kernelspec": {
   "display_name": "Python 3",
   "language": "python",
   "name": "python3"
  },
  "language_info": {
   "codemirror_mode": {
    "name": "ipython",
    "version": 3
   },
   "file_extension": ".py",
   "mimetype": "text/x-python",
   "name": "python",
   "nbconvert_exporter": "python",
   "pygments_lexer": "ipython3",
   "version": "3.12.4"
  }
 },
 "nbformat": 4,
 "nbformat_minor": 5
}
