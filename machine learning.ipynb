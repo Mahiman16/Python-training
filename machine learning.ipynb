{
 "cells": [
  {
   "cell_type": "markdown",
   "id": "e1d61bd2",
   "metadata": {},
   "source": [
    "# MACHINE LEARNING"
   ]
  },
  {
   "cell_type": "markdown",
   "id": "37687e20",
   "metadata": {},
   "source": [
    "Model--->train----->training data----->predictions\n",
    "\n",
    "1. email spam\n",
    "2. Price prediction\n",
    "\n",
    "# TYPE OF MACHINE LEARNING\n",
    "1. Supervised learning\n",
    "2. Unsupervised learning\n",
    "3. Semi-supervised\n",
    "4. Reinforcement learning\n"
   ]
  },
  {
   "cell_type": "markdown",
   "id": "3c461d55",
   "metadata": {},
   "source": [
    "1. Supervised Learning-----------\n",
    "---->classification---eg. yes,no\n",
    "---->regression-----eg. o/p will be in the numeric form\n",
    "\n",
    "##\n",
    "Linear regression\n",
    "x & y---->relationship---->straight line\n",
    "\n",
    "|\n",
    "|\\\n",
    "| \\  /pas r\n",
    "|  \\/\n",
    "| / \\\n",
    "|/    \\neg r\n",
    "\n",
    "\n",
    "best fit line is the line  which have most data points on it or nearby\n",
    "\n",
    "\n",
    "y = mx+c ---->m&c\n",
    "   ----->BFL----->least error ---> AP & PP\n",
    "   \n",
    "   ...\n",
    "\n",
    "\n",
    "y=b0+b1x1+b2x2+--------+bnxn+E\n",
    "\n",
    "\n",
    "\n",
    "overfitting & underfitting\n",
    "Bias\n",
    "Variance\n",
    "Bias-Variance tradeoff\n",
    "\n",
    "\n"
   ]
  }
 ],
 "metadata": {
  "kernelspec": {
   "display_name": "Python 3",
   "language": "python",
   "name": "python3"
  },
  "language_info": {
   "codemirror_mode": {
    "name": "ipython",
    "version": 3
   },
   "file_extension": ".py",
   "mimetype": "text/x-python",
   "name": "python",
   "nbconvert_exporter": "python",
   "pygments_lexer": "ipython3",
   "version": "3.12.4"
  }
 },
 "nbformat": 4,
 "nbformat_minor": 5
}
