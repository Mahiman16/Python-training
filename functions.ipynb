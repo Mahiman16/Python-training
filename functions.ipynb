{
 "cells": [
  {
   "cell_type": "markdown",
   "id": "d1804138",
   "metadata": {},
   "source": [
    "## FUNCTIONS #"
   ]
  },
  {
   "cell_type": "code",
   "execution_count": null,
   "id": "a1d0da3c",
   "metadata": {},
   "outputs": [],
   "source": [
    "## Functions---->A function is a block of code which only runs when it is called.\n",
    "##You can pass data, known as parameters, into a function.\n",
    "# ##A function can return data as a result.\n"
   ]
  },
  {
   "cell_type": "code",
   "execution_count": 2,
   "id": "65f896b6",
   "metadata": {},
   "outputs": [
    {
     "name": "stdout",
     "output_type": "stream",
     "text": [
      "hello world from the function\n"
     ]
    }
   ],
   "source": [
    "## User define function\n",
    "def hello():\n",
    "    print(\"hello world from the function\")\n",
    "hello()"
   ]
  },
  {
   "cell_type": "code",
   "execution_count": 3,
   "id": "3dfd54aa",
   "metadata": {},
   "outputs": [
    {
     "name": "stdout",
     "output_type": "stream",
     "text": [
      "30\n"
     ]
    }
   ],
   "source": [
    "def add():\n",
    "    a=10\n",
    "    b=20\n",
    "    c=a+b\n",
    "    print(c)\n",
    "add()"
   ]
  },
  {
   "cell_type": "code",
   "execution_count": 4,
   "id": "007300e6",
   "metadata": {},
   "outputs": [
    {
     "name": "stdout",
     "output_type": "stream",
     "text": [
      "500\n"
     ]
    }
   ],
   "source": [
    "## parameter and argument\n",
    "def add(a,b):\n",
    "    print(a+b)\n",
    "add(250,250)\n"
   ]
  },
  {
   "cell_type": "code",
   "execution_count": null,
   "id": "0c0156ba",
   "metadata": {},
   "outputs": [
    {
     "name": "stdout",
     "output_type": "stream",
     "text": [
      "the youngest child is yamraj\n"
     ]
    }
   ],
   "source": [
    "##arbitary arguments ---args---\n",
    "## denoted by *\n",
    "def child(*kids):\n",
    "    print(\"the youngest child is \" +kids[2])\n",
    "child(\"Bheem\",\"dusshashan\",\"yamraj\")"
   ]
  },
  {
   "cell_type": "code",
   "execution_count": 8,
   "id": "a4808b79",
   "metadata": {},
   "outputs": [
    {
     "name": "stdout",
     "output_type": "stream",
     "text": [
      "the youngest child is isha\n"
     ]
    }
   ],
   "source": [
    "#keyword argument\n",
    "def child(c1,c2,c3):\n",
    "    print(\"the youngest child is \" + c3)\n",
    "child(c2=\"Arjun\", c1=\"abhi\", c3=\"isha\")"
   ]
  },
  {
   "cell_type": "code",
   "execution_count": 11,
   "id": "82166066",
   "metadata": {},
   "outputs": [
    {
     "name": "stdout",
     "output_type": "stream",
     "text": [
      "youngest child-->mohit\n"
     ]
    }
   ],
   "source": [
    "#arbitary keyword argument\n",
    "# denoted by **\n",
    "def child(**kids):\n",
    "    print(\"youngest child-->\" + kids[\"c2\"])\n",
    "child(c2=\"mohit\", c3=\"manu\", c1=\"Soni\")"
   ]
  },
  {
   "cell_type": "code",
   "execution_count": 15,
   "id": "f324e481",
   "metadata": {},
   "outputs": [
    {
     "name": "stdout",
     "output_type": "stream",
     "text": [
      "my hobby is-->cricket\n",
      "my hobby is-->coding\n"
     ]
    }
   ],
   "source": [
    "## default parameter value\n",
    "def hobby(name=\"coding\"):\n",
    "    print(\"my hobby is-->\" + name)\n",
    "hobby(\"cricket\")\n",
    "hobby()"
   ]
  },
  {
   "cell_type": "code",
   "execution_count": 17,
   "id": "60a14403",
   "metadata": {},
   "outputs": [
    {
     "name": "stdout",
     "output_type": "stream",
     "text": [
      "Ira\n",
      "sonata\n",
      "ram\n"
     ]
    }
   ],
   "source": [
    "#passing list as an argument\n",
    "def lst(name):\n",
    "    for i in name:\n",
    "        print(i)\n",
    "lst([\"Ira\",\"sonata\",\"ram\"])"
   ]
  },
  {
   "cell_type": "code",
   "execution_count": 29,
   "id": "98262f09",
   "metadata": {},
   "outputs": [
    {
     "name": "stdout",
     "output_type": "stream",
     "text": [
      "3.0\n"
     ]
    }
   ],
   "source": [
    "# avg function\n",
    "# def avg(a,b):\n",
    "#     print(\"avg :\",(a+b)/2)\n",
    "\n",
    "# avg(2,5)\n",
    "\n",
    "def avg(name):\n",
    "    print(sum(name)/len(name))\n",
    "\n",
    "avg([1,2,3,4,5])"
   ]
  },
  {
   "cell_type": "code",
   "execution_count": null,
   "id": "078a014f",
   "metadata": {},
   "outputs": [],
   "source": []
  }
 ],
 "metadata": {
  "kernelspec": {
   "display_name": "Python 3",
   "language": "python",
   "name": "python3"
  },
  "language_info": {
   "codemirror_mode": {
    "name": "ipython",
    "version": 3
   },
   "file_extension": ".py",
   "mimetype": "text/x-python",
   "name": "python",
   "nbconvert_exporter": "python",
   "pygments_lexer": "ipython3",
   "version": "3.12.4"
  }
 },
 "nbformat": 4,
 "nbformat_minor": 5
}
