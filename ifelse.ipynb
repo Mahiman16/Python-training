{
 "cells": [
  {
   "cell_type": "markdown",
   "id": "e527437c",
   "metadata": {},
   "source": [
    "# conditional statement #"
   ]
  },
  {
   "cell_type": "code",
   "execution_count": 8,
   "id": "5526284d",
   "metadata": {},
   "outputs": [
    {
     "name": "stdout",
     "output_type": "stream",
     "text": [
      "b is less than a \n"
     ]
    }
   ],
   "source": [
    "## conditional statements ----> if , elif , else\n",
    "a = 10\n",
    "b = 10\n",
    "if b<a:\n",
    "    #intentation\n",
    "    print(\"b is greater than a\")\n",
    "# elif b==a:\n",
    "#     print(\"b = a\")\n",
    "else:\n",
    "    print(\"b is less than a \")"
   ]
  },
  {
   "cell_type": "code",
   "execution_count": 13,
   "id": "9e896624",
   "metadata": {},
   "outputs": [
    {
     "name": "stdout",
     "output_type": "stream",
     "text": [
      "hello\n"
     ]
    }
   ],
   "source": [
    "a = 10\n",
    "b = 20\n",
    "c = 30\n",
    "if not(b>a and a<c):\n",
    "    #intentation\n",
    "    print(\"b is greater than a and a is less then c\")\n",
    "# elif b==a:\n",
    "#     print(\"b = a\")\n",
    "else:\n",
    "    print(\"hello\")\n",
    "\n"
   ]
  },
  {
   "cell_type": "code",
   "execution_count": null,
   "id": "3bef5e72",
   "metadata": {},
   "outputs": [
    {
     "name": "stdout",
     "output_type": "stream",
     "text": [
      "a is negative\n"
     ]
    }
   ],
   "source": [
    "## nested if else\n",
    "a = 10\n",
    "if a>0:\n",
    "    if a%2==0:\n",
    "        print(\"a is even\")\n",
    "    else:\n",
    "        print(\"a is odd\")\n",
    "else:\n",
    "\n",
    "    print(\"a is negative\")"
   ]
  },
  {
   "cell_type": "code",
   "execution_count": null,
   "id": "84100c0d",
   "metadata": {},
   "outputs": [
    {
     "name": "stdout",
     "output_type": "stream",
     "text": [
      "a is even\n",
      "896\n",
      "<class 'int'>\n"
     ]
    }
   ],
   "source": [
    "a = int(input(\"enter a number\"))\n",
    "if a>0:\n",
    "    if a%2==0:\n",
    "        print(\"a is even\")\n",
    "    else:\n",
    "        print(\"a is odd\")\n",
    "else:\n",
    "\n",
    "    print(\"a is negative\")\n",
    "print(a)\n",
    "print(type(a))\n",
    "\n",
    "## que--- check if number is divisable by 5 and 7\n",
    "## que--- leap year or not"
   ]
  },
  {
   "cell_type": "code",
   "execution_count": null,
   "id": "a2b4eaf4",
   "metadata": {},
   "outputs": [
    {
     "name": "stdout",
     "output_type": "stream",
     "text": [
      "not divisible by 5 and 7\n"
     ]
    }
   ],
   "source": [
    "a = 30\n",
    "b = 41\n",
    "if (a%5 == 0 and b%7 == 0):\n",
    "    print(\"it giver 0 remainder\")\n",
    "else:\n",
    "    print(\"not divisible by 5 and 7\")\n"
   ]
  },
  {
   "cell_type": "code",
   "execution_count": null,
   "id": "8ca5f3da",
   "metadata": {},
   "outputs": [],
   "source": []
  }
 ],
 "metadata": {
  "kernelspec": {
   "display_name": "Python 3",
   "language": "python",
   "name": "python3"
  },
  "language_info": {
   "codemirror_mode": {
    "name": "ipython",
    "version": 3
   },
   "file_extension": ".py",
   "mimetype": "text/x-python",
   "name": "python",
   "nbconvert_exporter": "python",
   "pygments_lexer": "ipython3",
   "version": "3.12.4"
  }
 },
 "nbformat": 4,
 "nbformat_minor": 5
}
