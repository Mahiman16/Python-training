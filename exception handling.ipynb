{
 "cells": [
  {
   "cell_type": "markdown",
   "id": "b7e27aa4",
   "metadata": {},
   "source": [
    "##read exception handling\n"
   ]
  },
  {
   "cell_type": "code",
   "execution_count": null,
   "id": "ebe113f8",
   "metadata": {},
   "outputs": [],
   "source": [
    "## error handling\n",
    "## 4 type of blocks ---> try, except, else, finally\n",
    "## Try-----> it is used to test a block of code for errors\n",
    "## except----> it is use to handle errors\n",
    "## else---> it is use to define a block of code to be executed if there is no error\n",
    "## finally----> it is use to define a block of code to be executed\n",
    "\n",
    "# regardless of the result of the try and except the blocks"
   ]
  },
  {
   "cell_type": "code",
   "execution_count": 4,
   "id": "c12d3093",
   "metadata": {},
   "outputs": [
    {
     "name": "stdout",
     "output_type": "stream",
     "text": [
      "division by zero\n",
      "finally block\n"
     ]
    }
   ],
   "source": [
    "## zerodivision error\n",
    "try:\n",
    "    print(10/0)\n",
    "except Exception as e:\n",
    "    print(e)\n",
    "    # print(\"zero division error\")\n",
    "else:\n",
    "    print(\"else block\")\n",
    "finally:\n",
    "    print(\"finally block\")"
   ]
  },
  {
   "cell_type": "code",
   "execution_count": null,
   "id": "3a553e92",
   "metadata": {},
   "outputs": [],
   "source": []
  },
  {
   "cell_type": "code",
   "execution_count": null,
   "id": "50e17069",
   "metadata": {},
   "outputs": [],
   "source": [
    "try:\n",
    "    print(10/0)##########INDEXING ERROR TRY KARNI H\n",
    "except Exception as e:\n",
    "    print(e)\n",
    "    # print(\"zero division error\")\n",
    "else:\n",
    "    print(\"else block\")\n",
    "finally:\n",
    "    print(\"finally block\")"
   ]
  }
 ],
 "metadata": {
  "kernelspec": {
   "display_name": "Python 3",
   "language": "python",
   "name": "python3"
  },
  "language_info": {
   "codemirror_mode": {
    "name": "ipython",
    "version": 3
   },
   "file_extension": ".py",
   "mimetype": "text/x-python",
   "name": "python",
   "nbconvert_exporter": "python",
   "pygments_lexer": "ipython3",
   "version": "3.12.4"
  }
 },
 "nbformat": 4,
 "nbformat_minor": 5
}
