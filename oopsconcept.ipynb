{
 "cells": [
  {
   "cell_type": "code",
   "execution_count": 13,
   "id": "60ac5b24",
   "metadata": {},
   "outputs": [],
   "source": [
    "# class , objext , method\n",
    "##4 types of oops\n",
    "# inheritance--- single,multiple,multilevel, hyerarchical, hybrid\n",
    "# polymorphism,encapsulation\n"
   ]
  },
  {
   "cell_type": "code",
   "execution_count": 14,
   "id": "3be5d511",
   "metadata": {},
   "outputs": [],
   "source": [
    "## Class - blueprint of object\n",
    "## object - instance of class\n"
   ]
  },
  {
   "cell_type": "code",
   "execution_count": 15,
   "id": "7c449642",
   "metadata": {},
   "outputs": [
    {
     "data": {
      "text/plain": [
       "('abc', 'xyz')"
      ]
     },
     "execution_count": 15,
     "metadata": {},
     "output_type": "execute_result"
    }
   ],
   "source": [
    "class car:\n",
    "###Class variables\n",
    "    num1 = 10\n",
    "    num2 = 20\n",
    "    name = \"abc\"\n",
    "    model = \"xyz\"\n",
    "#function vs methods\n",
    "    def add(self):\n",
    "        return self.num1 + self.num2\n",
    "    def display(self):\n",
    "        return self.name , self.model\n",
    "#OBJ == OBJECT\n",
    "obj =car()\n",
    "obj.display()\n"
   ]
  },
  {
   "cell_type": "code",
   "execution_count": 16,
   "id": "348032c7",
   "metadata": {},
   "outputs": [
    {
     "data": {
      "text/plain": [
       "('lion', 10)"
      ]
     },
     "execution_count": 16,
     "metadata": {},
     "output_type": "execute_result"
    }
   ],
   "source": [
    "##init-- constructor -- initalize the variable\n",
    "\n",
    "class animal:\n",
    "    def __init__(self,name,age):\n",
    "        self.name = name\n",
    "        self.age = age\n",
    "    def display(self):\n",
    "        return self.name , self.age\n",
    "    \n",
    "obj = animal(\"lion\",10)\n",
    "obj.display()\n",
    "        "
   ]
  },
  {
   "cell_type": "code",
   "execution_count": 17,
   "id": "926c81ff",
   "metadata": {},
   "outputs": [
    {
     "name": "stdout",
     "output_type": "stream",
     "text": [
      "car\n",
      "bike\n"
     ]
    }
   ],
   "source": [
    "# Inheritance -- single,multiple,multilevel,hyerarchical,hybrid\n",
    "\n",
    "#single Inheritance\n",
    "class car:\n",
    "    def display(self):\n",
    "        return \"car\"\n",
    "class bike(car):\n",
    "    def show(self):\n",
    "        return \"bike\"\n",
    "\n",
    "obj = bike()\n",
    "print(obj.display())\n",
    "print(obj.show())"
   ]
  },
  {
   "cell_type": "code",
   "execution_count": null,
   "id": "f559a838",
   "metadata": {},
   "outputs": [
    {
     "name": "stdout",
     "output_type": "stream",
     "text": [
      "abc\n"
     ]
    },
    {
     "ename": "TypeError",
     "evalue": "'int' object is not callable",
     "output_type": "error",
     "traceback": [
      "\u001b[1;31m---------------------------------------------------------------------------\u001b[0m",
      "\u001b[1;31mTypeError\u001b[0m                                 Traceback (most recent call last)",
      "Cell \u001b[1;32mIn[28], line 26\u001b[0m\n\u001b[0;32m     24\u001b[0m obj \u001b[38;5;241m=\u001b[39m employee(\u001b[38;5;124m\"\u001b[39m\u001b[38;5;124mabc\u001b[39m\u001b[38;5;124m\"\u001b[39m,\u001b[38;5;241m1000\u001b[39m)\n\u001b[0;32m     25\u001b[0m \u001b[38;5;28mprint\u001b[39m(obj\u001b[38;5;241m.\u001b[39mshow())\n\u001b[1;32m---> 26\u001b[0m \u001b[38;5;28mprint\u001b[39m(\u001b[43mobj\u001b[49m\u001b[38;5;241;43m.\u001b[39;49m\u001b[43msalary\u001b[49m\u001b[43m(\u001b[49m\u001b[43m)\u001b[49m)\n",
      "\u001b[1;31mTypeError\u001b[0m: 'int' object is not callable"
     ]
    }
   ],
   "source": [
    "class person:\n",
    "    def __init__(self,name):\n",
    "        self.name = name\n",
    "\n",
    "    def show(self):\n",
    "        return self.name\n",
    "    \n",
    "class employee(person):\n",
    "    def __init__(self,name,salary):\n",
    "        super().__init__(name)\n",
    "        self.salary = salary\n",
    "    \n",
    "class job:\n",
    "    def __init__(self,salary):\n",
    "        self.salary = salary\n",
    "\n",
    "class employeepersonjob(employee,job):\n",
    "    def __init__(self,name,salary):\n",
    "        employee.__init__(self,name,salary)\n",
    "        job.__init__(self,salary)\n",
    "        self.salary = salary\n",
    "class w(employeepersonjob)\n",
    "\n",
    "\n",
    "\n",
    "\n",
    "\n"
   ]
  },
  {
   "cell_type": "code",
   "execution_count": null,
   "id": "755934c7",
   "metadata": {},
   "outputs": [
    {
     "data": {
      "text/plain": [
       "1000"
      ]
     },
     "execution_count": 24,
     "metadata": {},
     "output_type": "execute_result"
    }
   ],
   "source": [
    "class person:\n",
    "    def __init__(self,name):\n",
    "        self.name = name\n",
    "\n",
    "    def show(self):\n",
    "        return self.name\n",
    "    \n",
    "class employee(person):\n",
    "    def __init__(self,name,salary):\n",
    "        super().__init__(name)\n",
    "        self.salary = salary\n",
    "    \n",
    "    def showsalary(self):\n",
    "        return self.salary\n",
    "\n",
    "obj = employee(\"abc\",1000)\n",
    "print(obj.show())\n",
    "print(obj.showsalary())\n",
    "\n"
   ]
  },
  {
   "cell_type": "code",
   "execution_count": 40,
   "id": "06c0644d",
   "metadata": {},
   "outputs": [
    {
     "name": "stdout",
     "output_type": "stream",
     "text": [
      "meow\n",
      "bark\n",
      "roar\n"
     ]
    }
   ],
   "source": [
    "### polymorphism --- many forms--- the same function or method behave differently based on the input\n",
    "\n",
    "class cat:\n",
    "    def sound(self):\n",
    "        return \"meow\"\n",
    "class dog:\n",
    "    def sound(self): \n",
    "        return \"bark\"\n",
    "class lion:\n",
    "    def sound(self):\n",
    "        return \"roar\"\n",
    "    \n",
    "def make_sound(animal):\n",
    "    return animal.sound()\n",
    "cat = cat()\n",
    "dog = dog()\n",
    "lion = lion()\n",
    "\n",
    "print(make_sound(cat))\n",
    "print(make_sound(dog))\n",
    "print(make_sound(lion))\n",
    "# obj1 = cat()\n",
    "# obj2 = dog()\n",
    "# obj3 = lion()\n",
    "# print(obj1.sound())\n",
    "# print(obj2.sound())\n",
    "# print(obj3.sound())"
   ]
  },
  {
   "cell_type": "code",
   "execution_count": 50,
   "id": "75960331",
   "metadata": {},
   "outputs": [
    {
     "name": "stdout",
     "output_type": "stream",
     "text": [
      "3.14\n",
      "4\n",
      "4\n"
     ]
    }
   ],
   "source": [
    "class circle:\n",
    "    def area(self):\n",
    "        r = int(input(\"enter value of radius of circle \"))\n",
    "        return 3.14*r*r\n",
    "class square:\n",
    "    def area(self): \n",
    "        a = int(input(\"enter value of side of square a\"))\n",
    "        return a*a\n",
    "class rectangle:\n",
    "    def area(self):\n",
    "        l = int(input(\"enter value of length of rectangle l\"))\n",
    "        b = int(input(\"enter value of breadth of rectangle b\"))\n",
    "        return l*b\n",
    "    \n",
    "def find_area(shapes):\n",
    "    return shapes.area()\n",
    "\n",
    "c= circle()\n",
    "s = square()\n",
    "r = rectangle()\n",
    "\n",
    "print(find_area(c))\n",
    "print(find_area(s))\n",
    "print(find_area(r))\n"
   ]
  },
  {
   "cell_type": "code",
   "execution_count": 55,
   "id": "d38fafce",
   "metadata": {},
   "outputs": [
    {
     "data": {
      "text/plain": [
       "50"
      ]
     },
     "execution_count": 55,
     "metadata": {},
     "output_type": "execute_result"
    }
   ],
   "source": [
    "## ECAPSULATION\n",
    "## IT MEANS HIDING THE INTERNAL DETAILS OF A CLASS AND PROTECTING DATA FROM BEING ACCESS OR MODIFIED\n",
    "##DIRECTLY BY THE OUTSIDE WORLD\n",
    "## WE CAN DO IT BY USING PRIVATE AND PROTECTED VARIABLES\n",
    "## PRIVATE VARIABLES --  __NAME\n",
    "## CANNOT BE ACCESSIBL OUTSIDE THE CLASS\n",
    "\n",
    "## PROTECTED VARIABLE-- _name\n",
    "## it can be acessible inside class and subclass\n",
    "\n",
    "\n",
    "class student:\n",
    "    def __init__(self,name,marks):\n",
    "        self.name = name\n",
    "        self.__marks = marks\n",
    "\n",
    "    def get_marks(self):\n",
    "        return self.__marks\n",
    "        \n",
    "    def set_marks(self,marks):\n",
    "        if 0 <= marks <=100:\n",
    "            self.__marks = marks\n",
    "        else:\n",
    "            print(\"invalid marks\")\n",
    "\n",
    "\n",
    "s = student(\"abc\",50)\n",
    "s._student__marks\n"
   ]
  },
  {
   "cell_type": "code",
   "execution_count": null,
   "id": "451b535c",
   "metadata": {},
   "outputs": [],
   "source": [
    "\n"
   ]
  }
 ],
 "metadata": {
  "kernelspec": {
   "display_name": "Python 3",
   "language": "python",
   "name": "python3"
  },
  "language_info": {
   "codemirror_mode": {
    "name": "ipython",
    "version": 3
   },
   "file_extension": ".py",
   "mimetype": "text/x-python",
   "name": "python",
   "nbconvert_exporter": "python",
   "pygments_lexer": "ipython3",
   "version": "3.12.4"
  }
 },
 "nbformat": 4,
 "nbformat_minor": 5
}
