{
 "cells": [
  {
   "cell_type": "markdown",
   "id": "afce5ffb",
   "metadata": {},
   "source": [
    "loops"
   ]
  },
  {
   "cell_type": "code",
   "execution_count": 40,
   "id": "b977d0bb",
   "metadata": {},
   "outputs": [
    {
     "name": "stdout",
     "output_type": "stream",
     "text": [
      "2\n",
      "4\n",
      "6\n",
      "8\n"
     ]
    }
   ],
   "source": [
    "# for and while loop\n",
    "# for loop ----> iterating over a sequence (list,tuple, dict, string)\n",
    "\n",
    "## string\n",
    "# for i in \"hello\":\n",
    "#     print(i,end=\" \")\n",
    "\n",
    "\n",
    "## list\n",
    "# lst = [\"red\",\"blue\",\"green\",\"black\"]\n",
    "# for i in lst:\n",
    "#     print(i)\n",
    "\n",
    "## dict\n",
    "# dt ={\n",
    "#     \"name\"  : [\"hello\",\"world\"],\n",
    "#     \"age\"   :  20,\n",
    "#     \"hobby\" :  \"coding\"\n",
    "#     }\n",
    "# for i,y in dt.items():\n",
    "#     print(i,\"->>>>>>>>>\",y)\n",
    "\n",
    "for i in range(2,10,2):\n",
    "    print(i)\n",
    "\n"
   ]
  },
  {
   "cell_type": "code",
   "execution_count": 47,
   "id": "5382c35d",
   "metadata": {},
   "outputs": [
    {
     "name": "stdout",
     "output_type": "stream",
     "text": [
      "1 red\n",
      "------\n",
      "1 blue\n",
      "------\n",
      "1 green\n",
      "------\n",
      "2 red\n",
      "------\n",
      "2 blue\n",
      "------\n",
      "2 green\n",
      "------\n",
      "3 red\n",
      "------\n",
      "3 blue\n",
      "------\n",
      "3 green\n",
      "------\n"
     ]
    }
   ],
   "source": [
    "## nested for loop\n",
    "lst1 = [1,2,3]\n",
    "lst2 = [\"red\",\"blue\",\"green\"]\n",
    "for i in lst1:\n",
    "    for j in lst2:\n",
    "        print(i,j)\n",
    "        print(\"------\")"
   ]
  },
  {
   "cell_type": "code",
   "execution_count": 49,
   "id": "36c1b450",
   "metadata": {},
   "outputs": [
    {
     "name": "stdout",
     "output_type": "stream",
     "text": [
      "1\n",
      "2\n",
      "3\n",
      "4\n",
      "6\n",
      "7\n",
      "8\n",
      "9\n"
     ]
    }
   ],
   "source": [
    "##break and continue\n",
    "# for i in range(1,10):\n",
    "#     if i==5:\n",
    "#         break\n",
    "#     print(i)\n",
    "\n",
    "for i in  range(1,10):\n",
    "    if i==5:\n",
    "        continue\n",
    "    print(i)"
   ]
  },
  {
   "cell_type": "code",
   "execution_count": 52,
   "id": "62be4631",
   "metadata": {},
   "outputs": [
    {
     "name": "stdout",
     "output_type": "stream",
     "text": [
      "9\n"
     ]
    }
   ],
   "source": [
    "## pass\n",
    "for i in range(1,10):\n",
    "    pass\n",
    "print(i)"
   ]
  },
  {
   "cell_type": "code",
   "execution_count": null,
   "id": "e1843101",
   "metadata": {},
   "outputs": [
    {
     "name": "stdout",
     "output_type": "stream",
     "text": [
      "[1, 4, 9, 16, 25]\n"
     ]
    }
   ],
   "source": [
    "# toy have to square the given list and print the result in a list\n",
    "lst = [1,2,3,4,5]\n",
    "lst1 = []\n",
    "for i in lst:\n",
    "    lst1.append(i*i)\n",
    "\n",
    "print(lst1)"
   ]
  },
  {
   "cell_type": "code",
   "execution_count": 3,
   "id": "c0a04e02",
   "metadata": {},
   "outputs": [
    {
     "name": "stdout",
     "output_type": "stream",
     "text": [
      "1\n",
      "2\n",
      "3\n",
      "4\n",
      "5\n",
      "6\n",
      "7\n",
      "8\n",
      "9\n",
      "10\n"
     ]
    }
   ],
   "source": [
    "#while loop\n",
    "i=1\n",
    "while i<=10:\n",
    "    print(i)\n",
    "    i+=1"
   ]
  },
  {
   "cell_type": "code",
   "execution_count": null,
   "id": "7a3ab6a8",
   "metadata": {},
   "outputs": [],
   "source": [
    "## reverse while loop \n",
    "## find the sum of numbers from 1 to 10 using while loop"
   ]
  }
 ],
 "metadata": {
  "kernelspec": {
   "display_name": "Python 3",
   "language": "python",
   "name": "python3"
  },
  "language_info": {
   "codemirror_mode": {
    "name": "ipython",
    "version": 3
   },
   "file_extension": ".py",
   "mimetype": "text/x-python",
   "name": "python",
   "nbconvert_exporter": "python",
   "pygments_lexer": "ipython3",
   "version": "3.12.4"
  }
 },
 "nbformat": 4,
 "nbformat_minor": 5
}
