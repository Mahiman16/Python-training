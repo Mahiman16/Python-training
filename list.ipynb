{
 "cells": [
  {
   "cell_type": "markdown",
   "id": "f8b98b7c",
   "metadata": {},
   "source": [
    "# list #"
   ]
  },
  {
   "cell_type": "code",
   "execution_count": 83,
   "id": "eca0f0f6",
   "metadata": {},
   "outputs": [
    {
     "name": "stdout",
     "output_type": "stream",
     "text": [
      "hello world\n"
     ]
    }
   ],
   "source": [
    "print( \"hello world\" )"
   ]
  },
  {
   "cell_type": "markdown",
   "id": "498ed88c",
   "metadata": {},
   "source": [
    "<!-- list-- ordered,mutable,allow duplicate values , heterogenous -->"
   ]
  },
  {
   "cell_type": "code",
   "execution_count": 4,
   "id": "c7f7fc19",
   "metadata": {},
   "outputs": [
    {
     "name": "stdout",
     "output_type": "stream",
     "text": [
      "[1, 2, 'hello', True, 33.23, 'hello']\n",
      "<class 'list'>\n",
      "1\n",
      "[True, 33.23, 'hello']\n"
     ]
    }
   ],
   "source": [
    "list =[1,2,\"hello\",True,33.23,\"hello\"]\n",
    "print(list)\n",
    "print(type(list))\n",
    "print(list[0])\n",
    "print(list[-3:])"
   ]
  },
  {
   "cell_type": "code",
   "execution_count": 16,
   "id": "e4073908",
   "metadata": {},
   "outputs": [
    {
     "name": "stdout",
     "output_type": "stream",
     "text": [
      "['red', 'brown', 'r', 'y']\n"
     ]
    }
   ],
   "source": [
    "lst = [\"red\",\"black\",\"green\",\"pink\"]\n",
    "# print(lst)\n",
    "# print(type(lst))\n",
    "# print()\n",
    "lst[1:4]=[\"brown\",\"r\",\"y\"]\n",
    "print(lst)"
   ]
  },
  {
   "cell_type": "code",
   "execution_count": 21,
   "id": "47e5af00",
   "metadata": {},
   "outputs": [
    {
     "name": "stdout",
     "output_type": "stream",
     "text": [
      "['red', 'brown']\n"
     ]
    }
   ],
   "source": [
    "lst = [\"red\",\"black\",\"green\",\"pink\"]\n",
    "lst[1:4]=[\"brown\"]\n",
    "print(lst)"
   ]
  },
  {
   "cell_type": "code",
   "execution_count": 22,
   "id": "7899fd0f",
   "metadata": {},
   "outputs": [
    {
     "name": "stdout",
     "output_type": "stream",
     "text": [
      "['red', ['brown', 'r', 'y'], 'green', 'pink']\n"
     ]
    }
   ],
   "source": [
    "lst = [\"red\",\"black\",\"green\",\"pink\"]\n",
    "lst[1]=[\"brown\",\"r\",\"y\"]\n",
    "print(lst)"
   ]
  },
  {
   "cell_type": "code",
   "execution_count": 28,
   "id": "146a47ea",
   "metadata": {},
   "outputs": [
    {
     "name": "stdout",
     "output_type": "stream",
     "text": [
      "[10, 20, [30, 40, [50, 6000], 70], 80]\n"
     ]
    }
   ],
   "source": [
    "# update 60 to 6000\n",
    "lst = [10,20,[30,40,[50,60],70],80]\n",
    "lst[2][2][1] = 6000\n",
    "print(lst)\n"
   ]
  },
  {
   "cell_type": "code",
   "execution_count": null,
   "id": "43be47f8",
   "metadata": {},
   "outputs": [
    {
     "name": "stdout",
     "output_type": "stream",
     "text": [
      "['red', 'red', 'pink', 'green', 'black']\n"
     ]
    }
   ],
   "source": [
    "lst = [\"red\",\"black\",\"green\",\"pink\",\"red\"]\n",
    "# lst.count(\"red\")\n",
    "# lst.index(\"red\")\n",
    "# lst2=lst.copy()\n",
    "# lst2\n",
    "# lst.clear()\n",
    "# print(lst)\n",
    "# del lst\n",
    "# lst\n",
    "# lst.insert(3,\"yello\")\n",
    "# print(lst)\n",
    "# lst.append(\"purple\")\n",
    "# print(lst)\n",
    "# lst.extend([1,2,3,4,5,6])\n",
    "# print(lst)\n",
    "# lst.remove(\"red\")\n",
    "# print(lst)\n",
    "# lst.pop()\n",
    "# print(lst)\n",
    "# lst.pop(2)\n",
    "# print(lst)\n",
    "# lst.reverse()\n",
    "# print(lst)\n",
    "# lst.sort(reverse=True)\n",
    "# print(lst)"
   ]
  },
  {
   "cell_type": "code",
   "execution_count": 81,
   "id": "24e65fe1",
   "metadata": {},
   "outputs": [],
   "source": [
    "lst = [\"red\",\"black\",\"green\",\"pink\",\"red\"]\n",
    "lst[:] = lst[::-1]"
   ]
  },
  {
   "cell_type": "code",
   "execution_count": 82,
   "id": "02422dae",
   "metadata": {},
   "outputs": [
    {
     "name": "stdout",
     "output_type": "stream",
     "text": [
      "['brown', 'black', 'r', 'pink']\n"
     ]
    }
   ],
   "source": [
    "lst = [\"red\",\"black\",\"green\",\"pink\"]\n",
    "# print(lst)\n",
    "# print(type(lst))\n",
    "# print()\n",
    "lst[0:4:2]=[\"brown\",\"r\"]\n",
    "print(lst)"
   ]
  },
  {
   "cell_type": "code",
   "execution_count": null,
   "id": "ab7b728d",
   "metadata": {},
   "outputs": [],
   "source": []
  }
 ],
 "metadata": {
  "kernelspec": {
   "display_name": "Python 3",
   "language": "python",
   "name": "python3"
  },
  "language_info": {
   "codemirror_mode": {
    "name": "ipython",
    "version": 3
   },
   "file_extension": ".py",
   "mimetype": "text/x-python",
   "name": "python",
   "nbconvert_exporter": "python",
   "pygments_lexer": "ipython3",
   "version": "3.12.4"
  }
 },
 "nbformat": 4,
 "nbformat_minor": 5
}
