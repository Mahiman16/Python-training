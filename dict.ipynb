{
 "cells": [
  {
   "cell_type": "markdown",
   "id": "9fee9d1c",
   "metadata": {},
   "source": [
    "# DICTIONARY #"
   ]
  },
  {
   "cell_type": "code",
   "execution_count": null,
   "id": "9367ad6e",
   "metadata": {},
   "outputs": [],
   "source": [
    "## dict -- key value pair\n",
    "## dict = {}\n",
    "## dict -- ordered, mutable , and do not allow duplicate\n"
   ]
  },
  {
   "cell_type": "code",
   "execution_count": 3,
   "id": "c5198af5",
   "metadata": {},
   "outputs": [
    {
     "name": "stdout",
     "output_type": "stream",
     "text": [
      "{'name': 'hello', 'age': 20, 'hobby': 'coding'}\n",
      "<class 'dict'>\n"
     ]
    }
   ],
   "source": [
    "dt ={\n",
    "    \"name\" : \"hello\",\n",
    "    \"age\" : 20,\n",
    "    \"hobby\" : \"coding\",\n",
    "    }\n",
    "print(dt)\n",
    "print(type(dt))"
   ]
  },
  {
   "cell_type": "code",
   "execution_count": 4,
   "id": "96b074c6",
   "metadata": {},
   "outputs": [
    {
     "name": "stdout",
     "output_type": "stream",
     "text": [
      "{'name': 'hello', 'age': 30, 'hobby': 'coding'}\n",
      "<class 'dict'>\n"
     ]
    }
   ],
   "source": [
    "dt ={\n",
    "    \"name\" : \"hello\",\n",
    "    \"age\" : 20,\n",
    "    \"hobby\" : \"coding\",\n",
    "    \"age\" : 30\n",
    "    }\n",
    "print(dt)\n",
    "print(type(dt))"
   ]
  },
  {
   "cell_type": "code",
   "execution_count": 7,
   "id": "83d1b3a8",
   "metadata": {},
   "outputs": [
    {
     "name": "stdout",
     "output_type": "stream",
     "text": [
      "{'name': ['hello', 'world'], 'age': {'age1': 10, 'age2': 20}, 'hobby': 'coding'}\n",
      "<class 'dict'>\n"
     ]
    }
   ],
   "source": [
    "dt ={\n",
    "    \"name\" : [\"hello\",\"world\"],\n",
    "    \"age\" : 20,\n",
    "    \"hobby\" : \"coding\",\n",
    "    \"age\" : {\"age1\" : 10, \"age2\" : 20}\n",
    "    }\n",
    "print(dt)\n",
    "print(type(dt))"
   ]
  },
  {
   "cell_type": "code",
   "execution_count": 11,
   "id": "77421ca7",
   "metadata": {},
   "outputs": [
    {
     "data": {
      "text/plain": [
       "{'name': ['hello', 'world'],\n",
       " 'age': {'age1': 10, 'age2': 20},\n",
       " 'hobby': 'basketball'}"
      ]
     },
     "execution_count": 11,
     "metadata": {},
     "output_type": "execute_result"
    }
   ],
   "source": [
    "dt[\"hobby\"] = \"basketball\"\n",
    "dt"
   ]
  },
  {
   "cell_type": "markdown",
   "id": "43796aac",
   "metadata": {},
   "source": [
    "# accessing methods in dict #"
   ]
  },
  {
   "cell_type": "code",
   "execution_count": null,
   "id": "267d9d9b",
   "metadata": {},
   "outputs": [
    {
     "data": {
      "text/plain": [
       "{'name': ['hello', 'world'], 'age': 20, 'hobby': 'kabbdi', 'class': '10th'}"
      ]
     },
     "execution_count": 28,
     "metadata": {},
     "output_type": "execute_result"
    }
   ],
   "source": [
    "dt ={\n",
    "    \"name\" : [\"hello\",\"world\"],\n",
    "    \"age\" : 20,\n",
    "    \"hobby\" : \"coding\"\n",
    "    }\n",
    "# dt.get(\"name\")\n",
    "# dt.items()\n",
    "# dt.keys()\n",
    "# dt.values()\n",
    "# dt.pop(\"name\")\n",
    "# dt.popitem()\n",
    "# dt.update({\"hobby\" : \"kabbdi\", \"class\" : \"10th\"})\n"
   ]
  },
  {
   "cell_type": "code",
   "execution_count": 31,
   "id": "104275c1",
   "metadata": {},
   "outputs": [
    {
     "name": "stdout",
     "output_type": "stream",
     "text": [
      "{'a': 1, 'b': 2}\n"
     ]
    }
   ],
   "source": [
    "dt = {\"a\" : 1}\n",
    "value = dt.setdefault(\"b\",2)\n",
    "print(dt)"
   ]
  },
  {
   "cell_type": "code",
   "execution_count": 33,
   "id": "69da2019",
   "metadata": {},
   "outputs": [
    {
     "name": "stdout",
     "output_type": "stream",
     "text": [
      "{'a': 10, 'b': 10, 'c': 10}\n"
     ]
    }
   ],
   "source": [
    "#fromkey\n",
    "\n",
    "dt = {}.fromkeys(\"abc\",10)\n",
    "print(dt)"
   ]
  },
  {
   "cell_type": "markdown",
   "id": "c5153758",
   "metadata": {},
   "source": [
    "## operstors#\n"
   ]
  }
 ],
 "metadata": {
  "kernelspec": {
   "display_name": "Python 3",
   "language": "python",
   "name": "python3"
  },
  "language_info": {
   "codemirror_mode": {
    "name": "ipython",
    "version": 3
   },
   "file_extension": ".py",
   "mimetype": "text/x-python",
   "name": "python",
   "nbconvert_exporter": "python",
   "pygments_lexer": "ipython3",
   "version": "3.12.4"
  }
 },
 "nbformat": 4,
 "nbformat_minor": 5
}
